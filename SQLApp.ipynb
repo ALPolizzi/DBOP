{
 "cells": [
  {
   "cell_type": "code",
   "execution_count": 1,
   "metadata": {},
   "outputs": [
    {
     "name": "stdout",
     "output_type": "stream",
     "text": [
      "Requirement already satisfied: psycopg2 in d:\\applications\\anaconda3\\lib\\site-packages (2.8.5)\n"
     ]
    },
    {
     "name": "stderr",
     "output_type": "stream",
     "text": [
      "distributed 1.21.8 requires msgpack, which is not installed.\n",
      "You are using pip version 10.0.1, however version 20.1b1 is available.\n",
      "You should consider upgrading via the 'python -m pip install --upgrade pip' command.\n"
     ]
    },
    {
     "name": "stdout",
     "output_type": "stream",
     "text": [
      "could not connect to server: Connection refused (0x0000274D/10061)\n",
      "\tIs the server running on host \"localhost\" (127.0.0.1) and accepting\n",
      "\tTCP/IP connections on port 5432?\n",
      "could not connect to server: Connection refused (0x0000274D/10061)\n",
      "\tIs the server running on host \"localhost\" (::1) and accepting\n",
      "\tTCP/IP connections on port 5432?\n",
      "\n"
     ]
    }
   ],
   "source": [
    "import sys\n",
    "!{sys.executable} -m pip install psycopg2\n",
    "import psycopg2\n",
    "\n",
    "\n",
    "def create_tables():\n",
    "    \n",
    "    commands = (\n",
    "        \"\"\"\n",
    "        CREATE TABLE x (\n",
    "            xx PRIMARY KEY,\n",
    "            yy VARCHAR(255) NOT NULL\n",
    "        )\n",
    "        \"\"\")\n",
    "    \n",
    "    conn = None\n",
    "    \n",
    "    try:\n",
    "        # connect to PostgreSQL\n",
    "        conn = psycopg2.connect(host=\"localhost\",database=\"testdb\", user=\"postgres\", password=\"postgres\")\n",
    "        cur = conn.cursor()\n",
    "        \n",
    "        # create each table\n",
    "        for command in commands:\n",
    "            cur.execute(command)\n",
    "            \n",
    "        cur.close()\n",
    "        conn.commit()\n",
    "        \n",
    "    #Handle exceptions    \n",
    "    except (Exception, psycopg2.DatabaseError) as error:\n",
    "        print(error)\n",
    "    #Ensure closed\n",
    "    finally:\n",
    "        if conn is not None:\n",
    "            conn.close()\n",
    "\n",
    "            \n",
    "def get_something():\n",
    "    conn = None\n",
    "    try:\n",
    "        conn = psycopg2.connect(host=\"localhost\",database=\"testdb\", user=\"postgres\", password=\"postgres\")\n",
    "        cur = conn.cursor()\n",
    "        \n",
    "        \n",
    "        cur.execute(\"SELECT ...\")\n",
    "        \n",
    "        \n",
    "        print(\"The number of rows: \", cur.rowcount)\n",
    "        row = cur.fetchone()\n",
    "\n",
    "        while row is not None:\n",
    "            print(row)\n",
    "            row = cur.fetchone()\n",
    "\n",
    "        cur.close()\n",
    "    except (Exception, psycopg2.DatabaseError) as error:\n",
    "        print(error)\n",
    "    finally:\n",
    "        if conn is not None:\n",
    "            conn.close()\n",
    "            \n",
    "def insert_X(Y):\n",
    "\"\"\"Insert attribute Y into table X and return row\"\"\"\n",
    "    sql = \"\"\"INSERT INTO X(Y)\n",
    "             VALUES(%s) RETURNING Z;\"\"\"\n",
    "    conn = None\n",
    "    Z = None\n",
    "    try:\n",
    "        conn = psycopg2.connect(host=\"localhost\",database=\"testdb\", user=\"postgres\", password=\"postgres\")\n",
    "        cur = conn.cursor()\n",
    "        \n",
    "        \n",
    "        cur.execute(sql, (Y,))\n",
    "        \n",
    "        Z = cur.fetchone()\n",
    "        conn.commit()\n",
    "        cur.close()\n",
    "    except (Exception, psycopg2.DatabaseError) as error:\n",
    "        print(error)\n",
    "    finally:\n",
    "        if conn is not None:\n",
    "            conn.close()\n",
    "\n",
    "    return Z\n",
    "            \n",
    "if __name__ == '__main__':\n",
    "    create_tables()\n"
   ]
  }
 ],
 "metadata": {
  "kernelspec": {
   "display_name": "Python 3",
   "language": "python",
   "name": "python3"
  },
  "language_info": {
   "codemirror_mode": {
    "name": "ipython",
    "version": 3
   },
   "file_extension": ".py",
   "mimetype": "text/x-python",
   "name": "python",
   "nbconvert_exporter": "python",
   "pygments_lexer": "ipython3",
   "version": "3.6.5"
  }
 },
 "nbformat": 4,
 "nbformat_minor": 2
}
